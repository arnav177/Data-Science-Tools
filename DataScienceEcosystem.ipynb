{
 "cells": [
  {
   "cell_type": "markdown",
   "id": "f116c4ab",
   "metadata": {},
   "source": [
    "# Data Science Tools and Ecosystem"
   ]
  },
  {
   "cell_type": "markdown",
   "id": "99499c69",
   "metadata": {},
   "source": [
    "#  objective"
   ]
  },
  {
   "cell_type": "markdown",
   "id": "38bc89fe",
   "metadata": {},
   "source": [
    "* python\n",
    "* jawa\n",
    "* R\n",
    "* c++"
   ]
  },
  {
   "cell_type": "markdown",
   "id": "9df99c43",
   "metadata": {},
   "source": [
    "in this notebook, Data sceince tools and ecosystem are summarized."
   ]
  },
  {
   "cell_type": "markdown",
   "id": "934a67a1",
   "metadata": {},
   "source": [
    "1. python\n",
    "2. java\n",
    "3. c++\n",
    "4. R"
   ]
  },
  {
   "cell_type": "markdown",
   "id": "1092baf9",
   "metadata": {},
   "source": [
    "1. Numpy\n",
    "2. Pandas\n",
    "3. Keras\n",
    "4. Sci-kit learn\n",
    "5. Tensorflow"
   ]
  },
  {
   "cell_type": "markdown",
   "id": "9a2421fa",
   "metadata": {},
   "source": [
    "# Data science Tools\n",
    "\n",
    "1. jupyter\n",
    "2. jupyter lab\n",
    "3. R studio\n",
    "4. Zeplin\n",
    "5. Spyder"
   ]
  },
  {
   "cell_type": "markdown",
   "id": "1bfb54c3",
   "metadata": {},
   "source": [
    "### Create a arithmetic operation in notebook"
   ]
  },
  {
   "cell_type": "code",
   "execution_count": 3,
   "id": "a4bdae16",
   "metadata": {},
   "outputs": [
    {
     "data": {
      "text/plain": [
       "9"
      ]
     },
     "execution_count": 3,
     "metadata": {},
     "output_type": "execute_result"
    }
   ],
   "source": [
    "12-3"
   ]
  },
  {
   "cell_type": "code",
   "execution_count": 4,
   "id": "7d4e2a37",
   "metadata": {},
   "outputs": [
    {
     "data": {
      "text/plain": [
       "972"
      ]
     },
     "execution_count": 4,
     "metadata": {},
     "output_type": "execute_result"
    }
   ],
   "source": [
    "12*81"
   ]
  },
  {
   "cell_type": "code",
   "execution_count": 7,
   "id": "ce2e0d45",
   "metadata": {},
   "outputs": [
    {
     "data": {
      "text/plain": [
       "37134234731477575983465092780473537507"
      ]
     },
     "execution_count": 7,
     "metadata": {},
     "output_type": "execute_result"
    }
   ],
   "source": [
    "12+76\n",
    "\n",
    "76-67\n",
    "\n",
    "+43**23"
   ]
  },
  {
   "cell_type": "code",
   "execution_count": 8,
   "id": "07d3f860",
   "metadata": {},
   "outputs": [
    {
     "data": {
      "text/plain": [
       "1164"
      ]
     },
     "execution_count": 8,
     "metadata": {},
     "output_type": "execute_result"
    }
   ],
   "source": [
    "(23*54)-78"
   ]
  },
  {
   "cell_type": "code",
   "execution_count": 9,
   "id": "a97bdcdb",
   "metadata": {},
   "outputs": [
    {
     "data": {
      "text/plain": [
       "466"
      ]
     },
     "execution_count": 9,
     "metadata": {},
     "output_type": "execute_result"
    }
   ],
   "source": [
    "23*54-776"
   ]
  },
  {
   "cell_type": "markdown",
   "id": "599e250e",
   "metadata": {},
   "source": [
    "# simple aruthmetic operation of multiply and add integers\n",
    "\n"
   ]
  },
  {
   "cell_type": "code",
   "execution_count": 10,
   "id": "67b95332",
   "metadata": {},
   "outputs": [
    {
     "data": {
      "text/plain": [
       "17"
      ]
     },
     "execution_count": 10,
     "metadata": {},
     "output_type": "execute_result"
    }
   ],
   "source": [
    "3*4+5"
   ]
  },
  {
   "cell_type": "markdown",
   "id": "9cbb7b89",
   "metadata": {},
   "source": [
    "# this will converts 200 min into hours"
   ]
  },
  {
   "cell_type": "code",
   "execution_count": 11,
   "id": "a8c9fe80",
   "metadata": {},
   "outputs": [
    {
     "name": "stdout",
     "output_type": "stream",
     "text": [
      "3.3333333333333335\n"
     ]
    }
   ],
   "source": [
    "minutes = 200\n",
    "hour = minutes/60\n",
    "\n",
    "print(hour)"
   ]
  },
  {
   "cell_type": "markdown",
   "id": "a2911ada",
   "metadata": {},
   "source": [
    "## Author\n",
    "\n",
    "Raju Ranjan singh"
   ]
  }
 ],
 "metadata": {
  "kernelspec": {
   "display_name": "Python 3 (ipykernel)",
   "language": "python",
   "name": "python3"
  },
  "language_info": {
   "codemirror_mode": {
    "name": "ipython",
    "version": 3
   },
   "file_extension": ".py",
   "mimetype": "text/x-python",
   "name": "python",
   "nbconvert_exporter": "python",
   "pygments_lexer": "ipython3",
   "version": "3.10.11"
  }
 },
 "nbformat": 4,
 "nbformat_minor": 5
}
